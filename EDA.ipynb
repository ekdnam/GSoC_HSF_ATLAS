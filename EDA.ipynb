{
 "cells": [
  {
   "cell_type": "code",
   "execution_count": 1,
   "metadata": {},
   "outputs": [
    {
     "name": "stdout",
     "output_type": "stream",
     "text": [
      "3.8.3 (default, Jul  2 2020, 17:30:36) [MSC v.1916 64 bit (AMD64)]\n"
     ]
    }
   ],
   "source": [
    "import sys\n",
    "print(sys.version)"
   ]
  },
  {
   "cell_type": "code",
   "execution_count": 2,
   "metadata": {},
   "outputs": [],
   "source": [
    "import numpy as np\n",
    "import pandas as pd\n",
    "import matplotlib.pyplot as plt\n",
    "from typing import List\n",
    "from sklearn.preprocessing import StandardScaler"
   ]
  },
  {
   "cell_type": "code",
   "execution_count": 3,
   "metadata": {},
   "outputs": [],
   "source": [
    "class DatasetReader:\n",
    "    def __init__(self, filename: str = \"dataset/dataset.csv\", is_colab: bool = True):\n",
    "        self.filename = filename\n",
    "        self.repo_name = 'GSoC_HSF_ATLAS/'\n",
    "        self.filepath = repo_name + filename if is_colab else filename\n",
    "        self.cols = [\"event_ID\", \"process_ID\", \"event_weight\", \"MET\", \"MET_Phi\"]\n",
    "        self.ignore_particles = [\"e-\", \"e+\", \"m-\", \"m+\", \"g\", \"b\"]\n",
    "        self.data_list = []\n",
    "\n",
    "    def readFile(self) -> List[List[str]]:\n",
    "        print(\"Opening file: \" + self.filepath)\n",
    "        file = open(self.filepath, \"r\")\n",
    "\n",
    "        print(\"Reading file line by line...\")\n",
    "        for line in file.readlines():\n",
    "            cleaned_line = line.replace(\";\", \",\")\n",
    "            cleaned_line = cleaned_line.rstrip(\",\\n\")\n",
    "            cleaned_line = cleaned_line.split(\",\")\n",
    "            self.data_list.append(cleaned_line)\n",
    "        return self.data_list\n",
    "\n",
    "    def createDataFrame(self):\n",
    "        longest_line = max(self.data_list, key=len)\n",
    "\n",
    "        n_max_cols = len(longest_line)\n",
    "        print(\"Number of maximum possible columns: \" + str(n_max_cols))\n",
    "\n",
    "        print(\"Our cols are: \" + str(self.cols))\n",
    "        print(\"Creating deep copy of cols\")\n",
    "        copy_cols = self.cols.copy()\n",
    "\n",
    "        for i in range(1, (int((n_max_cols - 5) / 5)) + 1):\n",
    "            self.cols.append(\"obj_\" + str(i))\n",
    "            self.cols.append(\"E_\" + str(i))\n",
    "            self.cols.append(\"pt_\" + str(i))\n",
    "            self.cols.append(\"eta_\" + str(i))\n",
    "            self.cols.append(\"phi_\" + str(i))\n",
    "\n",
    "        print(\"Number of cols: \" + str(len(self.cols)))\n",
    "        print(\"\\nSlicing list of cols: \" + str(self.cols[50:60]))\n",
    "\n",
    "        df = pd.DataFrame(self.data_list, columns=self.cols)\n",
    "        df.fillna(value=np.nan, inplace=True)\n",
    "\n",
    "#         return df\n",
    "        df_data = pd.DataFrame(df.values, columns=self.cols)\n",
    "        df_data.fillna(value=0, inplace=True)\n",
    "        df_data.drop(columns=copy_cols, inplace=True)\n",
    "\n",
    "        ignore_list = []\n",
    "        for i in range(len(df_data)):\n",
    "            for j in df_data.loc[i].keys():\n",
    "                if \"obj\" in j:\n",
    "                    if df_data.loc[i][j] in self.ignore_particles:\n",
    "                        ignore_list.append(i)\n",
    "                        break\n",
    "\n",
    "        df_data.drop(ignore_list, inplace=True)\n",
    "\n",
    "        x = df_data.values.reshape([df_data.shape[0] * df_data.shape[1] // 5, 5])\n",
    "\n",
    "        temp_list = []\n",
    "        for i in range(x.shape[0]):\n",
    "            if (x[i] == 0).all():\n",
    "                temp_list.append(i)        \n",
    "        x1 = np.delete(x, temp_list, 0)\n",
    "        del x\n",
    "\n",
    "        temp_list = []\n",
    "        for i in range(x1.shape[0]):   \n",
    "            if  (x1[i][0] == 'j'):\n",
    "                continue\n",
    "            else:\n",
    "                temp_list.append(i)\n",
    "                print(i, x1[i][0])\n",
    "        \n",
    "        data = np.delete(x1, temp_list, 0)\n",
    "\n",
    "        col_names = ['obj', 'E', 'pt', 'eta', 'phi']\n",
    "        data_df = pd.DataFrame(data, columns=col_names)\n",
    "        # Drop the 'obj' column as it's unnecessary\n",
    "        data_df.drop(columns='obj', inplace=True)\n",
    "        data_df = data_df.astype('float32')\n",
    "\n",
    "        return data_df"
   ]
  },
  {
   "cell_type": "code",
   "execution_count": 4,
   "metadata": {},
   "outputs": [
    {
     "name": "stdout",
     "output_type": "stream",
     "text": [
      "Opening file: dataset/dataset.csv\n",
      "Reading file line by line...\n",
      "Number of maximum possible columns: 65\n",
      "Our cols are: ['event_ID', 'process_ID', 'event_weight', 'MET', 'MET_Phi']\n",
      "Creating deep copy of cols\n",
      "Number of cols: 65\n",
      "\n",
      "Slicing list of cols: ['obj_10', 'E_10', 'pt_10', 'eta_10', 'phi_10', 'obj_11', 'E_11', 'pt_11', 'eta_11', 'phi_11']\n"
     ]
    }
   ],
   "source": [
    "dr = DatasetReader(is_colab = False)\n",
    "data = dr.readFile()\n",
    "df = dr.createDataFrame()"
   ]
  },
  {
   "cell_type": "code",
   "execution_count": 6,
   "metadata": {},
   "outputs": [],
   "source": [
    "df.to_csv('dataset/cleaned.csv', index=False)"
   ]
  },
  {
   "cell_type": "code",
   "execution_count": 18,
   "metadata": {},
   "outputs": [],
   "source": [
    "df_normalized = df.copy()\n",
    "df_normalized[df_normalized.columns] = StandardScaler().fit_transform(df_normalized)"
   ]
  },
  {
   "cell_type": "code",
   "execution_count": 19,
   "metadata": {},
   "outputs": [
    {
     "name": "stdout",
     "output_type": "stream",
     "text": [
      "              E             pt       eta       phi\n",
      "0  1.069460e+06  751597.000000  0.858186 -1.842170\n",
      "1  4.576470e+05  110079.000000  2.102870  2.175010\n",
      "2  4.964910e+04   30875.199219 -1.031890 -1.799200\n",
      "3  6.760000e+05  640429.000000  0.330450  0.704554\n",
      "4  1.239300e+06  602104.000000  1.343240 -0.550856\n",
      "          E        pt       eta       phi\n",
      "0  1.467948  1.881091  0.567717 -1.014441\n",
      "1  0.042805 -0.502422  1.397870  1.210629\n",
      "2 -0.907576 -0.796698 -0.692885 -0.990640\n",
      "3  0.551431  1.468054  0.215739  0.396160\n",
      "4  1.863569  1.325661  0.891228 -0.299197\n"
     ]
    }
   ],
   "source": [
    "print(df.head())\n",
    "print(df_normalized.head())"
   ]
  },
  {
   "cell_type": "code",
   "execution_count": 20,
   "metadata": {},
   "outputs": [],
   "source": [
    "def plot_hist(data_df: pd.DataFrame(), savefig: bool = False, folderName: str = \"images\"):\n",
    "    unit_list = ['[log(GeV)]', '[rad/3]', '[rad/3]', '[log(GeV)]']\n",
    "    variable_list = [r'$p_T$', r'$\\eta$', r'$\\phi$', r'$m$']\n",
    "\n",
    "    branches=[\"pt\",\"eta\",\"phi\",\"E\"]\n",
    "\n",
    "    n_bins = 100\n",
    "\n",
    "    for kk in range(0,4):\n",
    "        n_hist_data, bin_edges, _ = plt.hist(df_normalized[branches[kk]], color='blue', label='Input', alpha=1, bins=n_bins)\n",
    "        plt.xlabel(xlabel=variable_list[kk] + ' ' + unit_list[kk])\n",
    "        plt.ylabel('# of events')\n",
    "        if savefig:\n",
    "            plt.savefig(folderName + \"/four_momentum_\"+branches[kk],dpi=300)\n",
    "        plt.show()"
   ]
  },
  {
   "cell_type": "code",
   "execution_count": 21,
   "metadata": {},
   "outputs": [
    {
     "data": {
      "image/png": "[encoded data removed]",
      "text/plain": [
       "<Figure size 432x288 with 1 Axes>"
      ]
     },
     "metadata": {
      "needs_background": "light"
     },
     "output_type": "display_data"
    },
    {
     "data": {
      "image/png": "[encoded data removed]",
      "text/plain": [
       "<Figure size 432x288 with 1 Axes>"
      ]
     },
     "metadata": {
      "needs_background": "light"
     },
     "output_type": "display_data"
    },
    {
     "data": {
      "image/png": "[encoded data removed]",
      "text/plain": [
       "<Figure size 432x288 with 1 Axes>"
      ]
     },
     "metadata": {
      "needs_background": "light"
     },
     "output_type": "display_data"
    },
    {
     "data": {
      "image/png": "[encoded data removed]",
      "text/plain": [
       "<Figure size 432x288 with 1 Axes>"
      ]
     },
     "metadata": {
      "needs_background": "light"
     },
     "output_type": "display_data"
    }
   ],
   "source": [
    "plot_hist(df_normalized, True)"
   ]
  },
  {
   "cell_type": "code",
   "execution_count": null,
   "metadata": {},
   "outputs": [],
   "source": []
  }
 ],
 "metadata": {
  "kernelspec": {
   "display_name": "Python 3",
   "language": "python",
   "name": "python3"
  },
  "language_info": {
   "codemirror_mode": {
    "name": "ipython",
    "version": 3
   },
   "file_extension": ".py",
   "mimetype": "text/x-python",
   "name": "python",
   "nbconvert_exporter": "python",
   "pygments_lexer": "ipython3",
   "version": "3.8.3"
  }
 },
 "nbformat": 4,
 "nbformat_minor": 4
}
