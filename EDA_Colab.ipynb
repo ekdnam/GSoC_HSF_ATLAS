{
  "nbformat": 4,
  "nbformat_minor": 0,
  "metadata": {
    "colab": {
      "name": "EDA-Colab.ipynb",
      "provenance": [],
      "collapsed_sections": [],
      "authorship_tag": "ABX9TyPAcYs2YF/BiYHo05aiB6m3",
      "include_colab_link": true
    },
    "kernelspec": {
      "name": "python3",
      "display_name": "Python 3"
    },
    "language_info": {
      "name": "python"
    }
  },
  "cells": [
    {
      "cell_type": "markdown",
      "metadata": {
        "id": "view-in-github",
        "colab_type": "text"
      },
      "source": [
        "<a href=\"https://colab.research.google.com/github/ekdnam/GSoC_HSF_ATLAS/blob/main/EDA_Colab.ipynb\" target=\"_parent\"><img src=\"https://colab.research.google.com/assets/colab-badge.svg\" alt=\"Open In Colab\"/></a>"
      ]
    },
    {
      "cell_type": "code",
      "metadata": {
        "colab": {
          "base_uri": "https://localhost:8080/"
        },
        "id": "AzWC9dCBGEsF",
        "outputId": "909fac72-400e-476e-9224-ba39125d7583"
      },
      "source": [
        "!rm -rf GSoC_HSF_ATLAS\n",
        "!git clone https://github.com/ekdnam/GSoC_HSF_ATLAS\n",
        "!cd GSoC_HSF_ATLAS"
      ],
      "execution_count": 11,
      "outputs": [
        {
          "output_type": "stream",
          "text": [
            "Cloning into 'GSoC_HSF_ATLAS'...\n",
            "remote: Enumerating objects: 18, done.\u001b[K\n",
            "remote: Counting objects:   5% (1/18)\u001b[K\rremote: Counting objects:  11% (2/18)\u001b[K\rremote: Counting objects:  16% (3/18)\u001b[K\rremote: Counting objects:  22% (4/18)\u001b[K\rremote: Counting objects:  27% (5/18)\u001b[K\rremote: Counting objects:  33% (6/18)\u001b[K\rremote: Counting objects:  38% (7/18)\u001b[K\rremote: Counting objects:  44% (8/18)\u001b[K\rremote: Counting objects:  50% (9/18)\u001b[K\rremote: Counting objects:  55% (10/18)\u001b[K\rremote: Counting objects:  61% (11/18)\u001b[K\rremote: Counting objects:  66% (12/18)\u001b[K\rremote: Counting objects:  72% (13/18)\u001b[K\rremote: Counting objects:  77% (14/18)\u001b[K\rremote: Counting objects:  83% (15/18)\u001b[K\rremote: Counting objects:  88% (16/18)\u001b[K\rremote: Counting objects:  94% (17/18)\u001b[K\rremote: Counting objects: 100% (18/18)\u001b[K\rremote: Counting objects: 100% (18/18), done.\u001b[K\n",
            "remote: Compressing objects: 100% (14/14), done.\u001b[K\n",
            "remote: Total 18 (delta 2), reused 18 (delta 2), pack-reused 0\u001b[K\n",
            "Unpacking objects: 100% (18/18), done.\n"
          ],
          "name": "stdout"
        }
      ]
    },
    {
      "cell_type": "code",
      "metadata": {
        "colab": {
          "base_uri": "https://localhost:8080/"
        },
        "id": "UC45ToBIHtWo",
        "outputId": "27e44a28-0166-48cd-b6e8-292dca3d059b"
      },
      "source": [
        "!ls"
      ],
      "execution_count": 12,
      "outputs": [
        {
          "output_type": "stream",
          "text": [
            "GSoC_HSF_ATLAS\tsample_data\n"
          ],
          "name": "stdout"
        }
      ]
    },
    {
      "cell_type": "code",
      "metadata": {
        "colab": {
          "base_uri": "https://localhost:8080/"
        },
        "id": "3cebpdxVF9Ld",
        "outputId": "3619b8c3-ea1e-4b3e-bd1d-08dbdc86ab5a"
      },
      "source": [
        "import sys\n",
        "print(sys.version)"
      ],
      "execution_count": 3,
      "outputs": [
        {
          "output_type": "stream",
          "text": [
            "3.7.10 (default, Feb 20 2021, 21:17:23) \n",
            "[GCC 7.5.0]\n"
          ],
          "name": "stdout"
        }
      ]
    },
    {
      "cell_type": "code",
      "metadata": {
        "id": "1KD3DDB_GCJ-"
      },
      "source": [
        "import numpy as np\n",
        "import pandas as pd\n",
        "import matplotlib.pyplot as plt\n",
        "from typing import List\n",
        "from sklearn.preprocessing import StandardScaler"
      ],
      "execution_count": 4,
      "outputs": []
    },
    {
      "cell_type": "code",
      "metadata": {
        "id": "74GkloxsHCVe"
      },
      "source": [
        "class DatasetReader:\n",
        "    def __init__(self, filename: str = \"dataset/dataset.csv\", is_colab: bool = True):\n",
        "        self.filename = filename\n",
        "        self.repo_name = 'GSoC_HSF_ATLAS/'\n",
        "        self.filepath = self.repo_name + filename if is_colab else filename\n",
        "        self.cols = [\"event_ID\", \"process_ID\", \"event_weight\", \"MET\", \"MET_Phi\"]\n",
        "        self.ignore_particles = [\"e-\", \"e+\", \"m-\", \"m+\", \"g\", \"b\"]\n",
        "        self.data_list = []\n",
        "\n",
        "    def readFile(self) -> List[List[str]]:\n",
        "        print(\"Opening file: \" + self.filepath)\n",
        "        file = open(self.filepath, \"r\")\n",
        "\n",
        "        print(\"Reading file line by line...\")\n",
        "        for line in file.readlines():\n",
        "            cleaned_line = line.replace(\";\", \",\")\n",
        "            cleaned_line = cleaned_line.rstrip(\",\\n\")\n",
        "            cleaned_line = cleaned_line.split(\",\")\n",
        "            self.data_list.append(cleaned_line)\n",
        "        return self.data_list\n",
        "\n",
        "    def createDataFrame(self):\n",
        "        longest_line = max(self.data_list, key=len)\n",
        "\n",
        "        n_max_cols = len(longest_line)\n",
        "        print(\"Number of maximum possible columns: \" + str(n_max_cols))\n",
        "\n",
        "        print(\"Our cols are: \" + str(self.cols))\n",
        "        print(\"Creating deep copy of cols\")\n",
        "        copy_cols = self.cols.copy()\n",
        "\n",
        "        for i in range(1, (int((n_max_cols - 5) / 5)) + 1):\n",
        "            self.cols.append(\"obj_\" + str(i))\n",
        "            self.cols.append(\"E_\" + str(i))\n",
        "            self.cols.append(\"pt_\" + str(i))\n",
        "            self.cols.append(\"eta_\" + str(i))\n",
        "            self.cols.append(\"phi_\" + str(i))\n",
        "\n",
        "        print(\"Number of cols: \" + str(len(self.cols)))\n",
        "        print(\"\\nSlicing list of cols: \" + str(self.cols[50:60]))\n",
        "\n",
        "        df = pd.DataFrame(self.data_list, columns=self.cols)\n",
        "        df.fillna(value=np.nan, inplace=True)\n",
        "\n",
        "#         return df\n",
        "        df_data = pd.DataFrame(df.values, columns=self.cols)\n",
        "        df_data.fillna(value=0, inplace=True)\n",
        "        df_data.drop(columns=copy_cols, inplace=True)\n",
        "\n",
        "        ignore_list = []\n",
        "        for i in range(len(df_data)):\n",
        "            for j in df_data.loc[i].keys():\n",
        "                if \"obj\" in j:\n",
        "                    if df_data.loc[i][j] in self.ignore_particles:\n",
        "                        ignore_list.append(i)\n",
        "                        break\n",
        "\n",
        "        df_data.drop(ignore_list, inplace=True)\n",
        "\n",
        "        x = df_data.values.reshape([df_data.shape[0] * df_data.shape[1] // 5, 5])\n",
        "\n",
        "        temp_list = []\n",
        "        for i in range(x.shape[0]):\n",
        "            if (x[i] == 0).all():\n",
        "                temp_list.append(i)        \n",
        "        x1 = np.delete(x, temp_list, 0)\n",
        "        del x\n",
        "\n",
        "        temp_list = []\n",
        "        for i in range(x1.shape[0]):   \n",
        "            if  (x1[i][0] == 'j'):\n",
        "                continue\n",
        "            else:\n",
        "                temp_list.append(i)\n",
        "                print(i, x1[i][0])\n",
        "        \n",
        "        data = np.delete(x1, temp_list, 0)\n",
        "\n",
        "        col_names = ['obj', 'E', 'pt', 'eta', 'phi']\n",
        "        data_df = pd.DataFrame(data, columns=col_names)\n",
        "        # Drop the 'obj' column as it's unnecessary\n",
        "        data_df.drop(columns='obj', inplace=True)\n",
        "        data_df = data_df.astype('float32')\n",
        "\n",
        "        return data_df"
      ],
      "execution_count": 9,
      "outputs": []
    },
    {
      "cell_type": "code",
      "metadata": {
        "colab": {
          "base_uri": "https://localhost:8080/",
          "height": 339
        },
        "id": "oN7YawAiHEOs",
        "outputId": "16b319a3-9adf-4f0f-8bb6-b87ec0722712"
      },
      "source": [
        "dr = DatasetReader(is_colab = True)\n",
        "data = dr.readFile()\n",
        "df = dr.createDataFrame()"
      ],
      "execution_count": 10,
      "outputs": [
        {
          "output_type": "stream",
          "text": [
            "Opening file: GSoC_HSF_ATLAS/dataset/dataset.csv\n"
          ],
          "name": "stdout"
        },
        {
          "output_type": "error",
          "ename": "FileNotFoundError",
          "evalue": "ignored",
          "traceback": [
            "\u001b[0;31m---------------------------------------------------------------------------\u001b[0m",
            "\u001b[0;31mFileNotFoundError\u001b[0m                         Traceback (most recent call last)",
            "\u001b[0;32m<ipython-input-10-55d351e1b533>\u001b[0m in \u001b[0;36m<module>\u001b[0;34m()\u001b[0m\n\u001b[1;32m      1\u001b[0m \u001b[0mdr\u001b[0m \u001b[0;34m=\u001b[0m \u001b[0mDatasetReader\u001b[0m\u001b[0;34m(\u001b[0m\u001b[0mis_colab\u001b[0m \u001b[0;34m=\u001b[0m \u001b[0;32mTrue\u001b[0m\u001b[0;34m)\u001b[0m\u001b[0;34m\u001b[0m\u001b[0;34m\u001b[0m\u001b[0m\n\u001b[0;32m----> 2\u001b[0;31m \u001b[0mdata\u001b[0m \u001b[0;34m=\u001b[0m \u001b[0mdr\u001b[0m\u001b[0;34m.\u001b[0m\u001b[0mreadFile\u001b[0m\u001b[0;34m(\u001b[0m\u001b[0;34m)\u001b[0m\u001b[0;34m\u001b[0m\u001b[0;34m\u001b[0m\u001b[0m\n\u001b[0m\u001b[1;32m      3\u001b[0m \u001b[0mdf\u001b[0m \u001b[0;34m=\u001b[0m \u001b[0mdr\u001b[0m\u001b[0;34m.\u001b[0m\u001b[0mcreateDataFrame\u001b[0m\u001b[0;34m(\u001b[0m\u001b[0;34m)\u001b[0m\u001b[0;34m\u001b[0m\u001b[0;34m\u001b[0m\u001b[0m\n",
            "\u001b[0;32m<ipython-input-9-cbb96b079fcd>\u001b[0m in \u001b[0;36mreadFile\u001b[0;34m(self)\u001b[0m\n\u001b[1;32m     10\u001b[0m     \u001b[0;32mdef\u001b[0m \u001b[0mreadFile\u001b[0m\u001b[0;34m(\u001b[0m\u001b[0mself\u001b[0m\u001b[0;34m)\u001b[0m \u001b[0;34m->\u001b[0m \u001b[0mList\u001b[0m\u001b[0;34m[\u001b[0m\u001b[0mList\u001b[0m\u001b[0;34m[\u001b[0m\u001b[0mstr\u001b[0m\u001b[0;34m]\u001b[0m\u001b[0;34m]\u001b[0m\u001b[0;34m:\u001b[0m\u001b[0;34m\u001b[0m\u001b[0;34m\u001b[0m\u001b[0m\n\u001b[1;32m     11\u001b[0m         \u001b[0mprint\u001b[0m\u001b[0;34m(\u001b[0m\u001b[0;34m\"Opening file: \"\u001b[0m \u001b[0;34m+\u001b[0m \u001b[0mself\u001b[0m\u001b[0;34m.\u001b[0m\u001b[0mfilepath\u001b[0m\u001b[0;34m)\u001b[0m\u001b[0;34m\u001b[0m\u001b[0;34m\u001b[0m\u001b[0m\n\u001b[0;32m---> 12\u001b[0;31m         \u001b[0mfile\u001b[0m \u001b[0;34m=\u001b[0m \u001b[0mopen\u001b[0m\u001b[0;34m(\u001b[0m\u001b[0mself\u001b[0m\u001b[0;34m.\u001b[0m\u001b[0mfilepath\u001b[0m\u001b[0;34m,\u001b[0m \u001b[0;34m\"r\"\u001b[0m\u001b[0;34m)\u001b[0m\u001b[0;34m\u001b[0m\u001b[0;34m\u001b[0m\u001b[0m\n\u001b[0m\u001b[1;32m     13\u001b[0m \u001b[0;34m\u001b[0m\u001b[0m\n\u001b[1;32m     14\u001b[0m         \u001b[0mprint\u001b[0m\u001b[0;34m(\u001b[0m\u001b[0;34m\"Reading file line by line...\"\u001b[0m\u001b[0;34m)\u001b[0m\u001b[0;34m\u001b[0m\u001b[0;34m\u001b[0m\u001b[0m\n",
            "\u001b[0;31mFileNotFoundError\u001b[0m: [Errno 2] No such file or directory: 'GSoC_HSF_ATLAS/dataset/dataset.csv'"
          ]
        }
      ]
    },
    {
      "cell_type": "code",
      "metadata": {
        "id": "kvCjyIH2HHpr"
      },
      "source": [
        ""
      ],
      "execution_count": null,
      "outputs": []
    }
  ]
}